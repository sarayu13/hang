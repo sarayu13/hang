{
 "cells": [
  {
   "cell_type": "code",
   "execution_count": 3,
   "id": "6fa8bdbf",
   "metadata": {},
   "outputs": [],
   "source": [
    "#subprogram\n",
    "word=\"python\"\n",
    "guess=\"\""
   ]
  },
  {
   "cell_type": "code",
   "execution_count": 6,
   "id": "ffa53a5a",
   "metadata": {},
   "outputs": [
    {
     "name": "stdout",
     "output_type": "stream",
     "text": [
      "Make a guess:py\n",
      "py****"
     ]
    }
   ],
   "source": [
    "#subprogram\n",
    "inp=input(\"Make a guess:\")\n",
    "if inp in word:\n",
    "    guess=guess+inp\n",
    "for i in word:\n",
    "    if i in guess:\n",
    "        print(i,end=\"\")\n",
    "    else:\n",
    "        print(\"*\",end=\"\")"
   ]
  },
  {
   "cell_type": "code",
   "execution_count": 3,
   "id": "3638925f",
   "metadata": {},
   "outputs": [],
   "source": [
    "from random import choice"
   ]
  },
  {
   "cell_type": "code",
   "execution_count": 4,
   "id": "4cc925c8",
   "metadata": {},
   "outputs": [],
   "source": [
    "def word_generator():\n",
    "    with open(\"list.txt\",\"r\")as f:\n",
    "        lines=f.readlines()\n",
    "    f.close()\n",
    "    lines=[i.strip(\"\\n\")for i in lines]\n",
    "    return choice(lines)"
   ]
  },
  {
   "cell_type": "code",
   "execution_count": 5,
   "id": "9f601d89",
   "metadata": {},
   "outputs": [
    {
     "name": "stdout",
     "output_type": "stream",
     "text": [
      "You're left with 10 turns\n",
      "\n",
      "Make a guess: u\n",
      "*******You're left with 9 turns\n",
      "\n",
      "Make a guess: s\n",
      "****s**You're left with 8 turns\n",
      "\n",
      "Make a guess: od\n",
      "odd*s**You're left with 7 turns\n",
      "\n",
      "Make a guess: i\n",
      "oddis**You're left with 6 turns\n",
      "\n",
      "Make a guess: ha\n",
      "oddisha\n",
      "Hurray!! You won..\n"
     ]
    }
   ],
   "source": [
    "word=word_generator()\n",
    "guess=\"\"\n",
    "turns=int(len(word)*1.5)\n",
    "while (True):\n",
    "    print(\"You're left with {} turns\".format(turns))\n",
    "    inp=input(\"\\nMake a guess: \")\n",
    "    turns=turns-1\n",
    "    if inp in word:\n",
    "        guess=guess+inp\n",
    "    unguess=0\n",
    "    for i in word:\n",
    "        if i in guess:\n",
    "            print(i,end=\"\")\n",
    "        else:\n",
    "            unguess+=1\n",
    "            print(\"*\",end=\"\")\n",
    "    if unguess==0:\n",
    "          print(\"\\nHurray!! You won..\")\n",
    "          break\n",
    "    if turns==0:\n",
    "          print(\"\\ntoin toin toin...You ran out of attempts\")\n",
    "          break"
   ]
  },
  {
   "cell_type": "code",
   "execution_count": null,
   "id": "f821399a",
   "metadata": {},
   "outputs": [],
   "source": []
  }
 ],
 "metadata": {
  "kernelspec": {
   "display_name": "Python 3 (ipykernel)",
   "language": "python",
   "name": "python3"
  },
  "language_info": {
   "codemirror_mode": {
    "name": "ipython",
    "version": 3
   },
   "file_extension": ".py",
   "mimetype": "text/x-python",
   "name": "python",
   "nbconvert_exporter": "python",
   "pygments_lexer": "ipython3",
   "version": "3.9.6"
  }
 },
 "nbformat": 4,
 "nbformat_minor": 5
}
